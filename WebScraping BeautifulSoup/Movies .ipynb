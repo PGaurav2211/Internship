{
 "cells": [
  {
   "cell_type": "markdown",
   "id": "a476a45e-c7f2-4888-bfdd-86416bda0cfe",
   "metadata": {},
   "source": [
    "1) Write a python program to display IMDB’s Top rated 100 Indian movies’ data\r\n",
    "https://www.imdb.com/list/ls056092300/ (i.e. name, rating, year ofrelease) and make data frame."
   ]
  },
  {
   "cell_type": "code",
   "execution_count": 1,
   "id": "7300a0c7-853b-4557-9536-ecfb062dc6db",
   "metadata": {},
   "outputs": [],
   "source": [
    "import requests\n",
    "from bs4 import BeautifulSoup\n",
    "import pandas as pd"
   ]
  },
  {
   "cell_type": "code",
   "execution_count": 2,
   "id": "ad4896c9-463b-4060-8afa-8a68cbb4e039",
   "metadata": {},
   "outputs": [],
   "source": [
    "url = \"https://www.imdb.com/list/ls056092300/\""
   ]
  },
  {
   "cell_type": "code",
   "execution_count": 13,
   "id": "0335f7ce-777a-4a41-932a-14336aa19dc8",
   "metadata": {},
   "outputs": [],
   "source": [
    "response = requests.get(url)\n",
    "html_content = response.content"
   ]
  },
  {
   "cell_type": "code",
   "execution_count": 14,
   "id": "3702c023-7523-44df-8c86-e528b98155f3",
   "metadata": {},
   "outputs": [],
   "source": [
    "soup = BeautifulSoup(html_content, 'html.parser')"
   ]
  },
  {
   "cell_type": "code",
   "execution_count": 15,
   "id": "2ac308db-fc39-4575-9bbd-aaf056f4d786",
   "metadata": {},
   "outputs": [],
   "source": [
    "movies = soup.find_all('div', class_='lister-item mode-detail')"
   ]
  },
  {
   "cell_type": "code",
   "execution_count": 16,
   "id": "a4ec96a4-dcb0-408f-9584-989900a52fbe",
   "metadata": {},
   "outputs": [],
   "source": [
    "names = []\n",
    "ratings = []\n",
    "years = []"
   ]
  },
  {
   "cell_type": "code",
   "execution_count": 20,
   "id": "e8e29625-3f87-4dae-9931-d350b1e7aa08",
   "metadata": {},
   "outputs": [],
   "source": [
    "for movie in movies:\n",
    "    name = movie.h3.a.text.strip()\n",
    "    names.append(name)\n",
    "    rating = movie.find('span', class_='ipl-rating-star__rating').text.strip()\n",
    "    ratings.append(rating)\n",
    "    year = movie.find('span', class_='lister-item-year').text.strip('()')\n",
    "    years.append(year)"
   ]
  },
  {
   "cell_type": "code",
   "execution_count": 21,
   "id": "85143f96-2a6b-46c4-b460-de9d62c9eebb",
   "metadata": {},
   "outputs": [],
   "source": [
    "movies_df = pd.DataFrame({\n",
    "    'Name': names,\n",
    "    'Rating': ratings,\n",
    "    'Year of Release': years\n",
    "})"
   ]
  },
  {
   "cell_type": "code",
   "execution_count": 22,
   "id": "a65e038e-0aab-4e61-a00f-15173178f145",
   "metadata": {},
   "outputs": [
    {
     "name": "stdout",
     "output_type": "stream",
     "text": [
      "Empty DataFrame\n",
      "Columns: [Name, Rating, Year of Release]\n",
      "Index: []\n"
     ]
    }
   ],
   "source": [
    "print(movies_df)"
   ]
  },
  {
   "cell_type": "code",
   "execution_count": null,
   "id": "36c1692e-4be4-46ed-9c7f-5f028afe7f05",
   "metadata": {},
   "outputs": [],
   "source": []
  }
 ],
 "metadata": {
  "kernelspec": {
   "display_name": "Python 3 (ipykernel)",
   "language": "python",
   "name": "python3"
  },
  "language_info": {
   "codemirror_mode": {
    "name": "ipython",
    "version": 3
   },
   "file_extension": ".py",
   "mimetype": "text/x-python",
   "name": "python",
   "nbconvert_exporter": "python",
   "pygments_lexer": "ipython3",
   "version": "3.11.7"
  }
 },
 "nbformat": 4,
 "nbformat_minor": 5
}
