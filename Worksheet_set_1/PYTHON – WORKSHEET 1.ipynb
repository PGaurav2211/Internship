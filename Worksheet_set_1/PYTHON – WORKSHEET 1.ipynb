{
 "cells": [
  {
   "cell_type": "markdown",
   "id": "194bf534-ee4d-461d-98e2-1965706cac71",
   "metadata": {},
   "source": [
    "PYTHON – WORKSHEET 1"
   ]
  },
  {
   "cell_type": "markdown",
   "id": "293deeba-1369-42d0-872c-38bd1f9f9c3e",
   "metadata": {},
   "source": [
    "11. Write a python program to find the factorial of a number."
   ]
  },
  {
   "cell_type": "code",
   "execution_count": 1,
   "id": "e39723ae-d002-4389-8563-24a732d5bda7",
   "metadata": {},
   "outputs": [
    {
     "name": "stdout",
     "output_type": "stream",
     "text": [
      "Factorial of 5 is 120\n"
     ]
    }
   ],
   "source": [
    "def factorial(n):\n",
    "    \n",
    "    return 1 if (n==1 or n==0) else n * factorial(n - 1) \n",
    "\n",
    "num = 5\n",
    "print(\"Factorial of\",num,\"is\",factorial(num))"
   ]
  },
  {
   "cell_type": "markdown",
   "id": "11e06964-d107-4896-8906-bd8599e437d9",
   "metadata": {},
   "source": [
    "12. Write a python program to find whether a number is prime or composite."
   ]
  },
  {
   "cell_type": "code",
   "execution_count": null,
   "id": "fd442cf6-8129-4a55-9f59-aefb31bd2649",
   "metadata": {},
   "outputs": [],
   "source": [
    "def is_prime(num):\n",
    "    if num <= 1:\n",
    "        return False\n",
    "    elif num == 2:\n",
    "        return True\n",
    "    elif num % 2 == 0:\n",
    "        return False\n",
    "    else:\n",
    "       \n",
    "        for i in range(3, int(num**0.5) + 1, 2):\n",
    "            if num % i == 0:\n",
    "                return False\n",
    "        return True\n",
    "\n",
    "\n",
    "number = int(input(\"Enter a number: \"))\n",
    "\n",
    "if is_prime(number):\n",
    "    print(number, \"is a prime number\")\n",
    "else:\n",
    "    print(number, \"is a composite number\")\n"
   ]
  },
  {
   "cell_type": "markdown",
   "id": "13a1ee8a-ec10-4c4b-9743-fdc8261ed11a",
   "metadata": {},
   "source": [
    "13. Write a python program to check whether a given string is palindrome or not"
   ]
  },
  {
   "cell_type": "code",
   "execution_count": null,
   "id": "6402584c-2a48-4ccb-aea6-50a58045b25e",
   "metadata": {},
   "outputs": [],
   "source": [
    "def is_palindrome(s):\n",
    "   \n",
    "    s = s.replace(\" \", \"\").lower()\n",
    "   \n",
    "    return s == s[::-1]\n",
    "\n",
    "\n",
    "string = input(\"Enter a string: \")\n",
    "\n",
    "if is_palindrome(string):\n",
    "    print(\"The string is a palindrome\")\n",
    "else:\n",
    "    print(\"The string is not a palindrome\")"
   ]
  },
  {
   "cell_type": "markdown",
   "id": "c87f91c5-7fda-4cc2-9eef-6be0df07abe0",
   "metadata": {},
   "source": [
    "14. Write a Python program to get the third side of right-angled triangle from two given sides"
   ]
  },
  {
   "cell_type": "code",
   "execution_count": null,
   "id": "53c415ed-81ef-4f4b-ba76-ce5c8c887866",
   "metadata": {},
   "outputs": [],
   "source": [
    "import math\n",
    "\n",
    "def third_side(a, b):\n",
    "    return math.sqrt(a**2 + b**2)\n",
    "\n",
    "side1 = float(input(\"Enter the length of the first side: \"))\n",
    "side2 = float(input(\"Enter the length of the second side: \"))\n",
    "\n",
    "third = third_side(side1, side2)\n",
    "print(\"The length of the third side of the right-angled triangle is:\", third)"
   ]
  },
  {
   "cell_type": "markdown",
   "id": "5fb9c97f-94ef-4ee7-ab24-10bd5dbc7e5e",
   "metadata": {},
   "source": [
    "15. Write a python program to print the frequency of each of the characters present in a given string"
   ]
  },
  {
   "cell_type": "code",
   "execution_count": null,
   "id": "f7626622-9d68-4130-aefb-98d8d9bd8619",
   "metadata": {},
   "outputs": [],
   "source": [
    "def char_frequency(string):\n",
    " \n",
    "    freq = {}\n",
    "\n",
    "    for char in string:\n",
    "        if char in freq:\n",
    "            freq[char] += 1\n",
    "        else:\n",
    "            freq[char] = 1\n",
    "    \n",
    "    return freq\n",
    "\n",
    "string = input(\"Enter a string: \")\n",
    "\n",
    "print(\"Character frequencies in the given string:\")\n",
    "for char, frequency in char_frequency(string).items():\n",
    "    print(f\"Character '{char}' occurs {frequency} time(s)\")"
   ]
  }
 ],
 "metadata": {
  "kernelspec": {
   "display_name": "Python 3 (ipykernel)",
   "language": "python",
   "name": "python3"
  },
  "language_info": {
   "codemirror_mode": {
    "name": "ipython",
    "version": 3
   },
   "file_extension": ".py",
   "mimetype": "text/x-python",
   "name": "python",
   "nbconvert_exporter": "python",
   "pygments_lexer": "ipython3",
   "version": "3.11.7"
  }
 },
 "nbformat": 4,
 "nbformat_minor": 5
}
