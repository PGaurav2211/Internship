{
 "cells": [
  {
   "cell_type": "markdown",
   "id": "6a7d3744-2bd7-47bb-9eff-4edaa86692bf",
   "metadata": {},
   "source": [
    "Question 1- Write a Python program to replace all occurrences of a space, comma, or dot with a colon.\r\n",
    "Sample Text- 'Python Exercises, PHP exercises.'\r\n",
    "Expected Output: Python:Exercises::PHP:exercises:\r\n"
   ]
  },
  {
   "cell_type": "code",
   "execution_count": 11,
   "id": "bc9c5885-d3c4-4bec-9e93-bd307cbe2c17",
   "metadata": {},
   "outputs": [
    {
     "name": "stdout",
     "output_type": "stream",
     "text": [
      "Python:Exercises::PHP:exercises:\n"
     ]
    }
   ],
   "source": [
    "text = 'Python Exercises, PHP exercises.'\n",
    "new_text = text.replace(' ', ':').replace(',', ':').replace('.', ':')\n",
    "\n",
    "print(new_text)\n"
   ]
  },
  {
   "cell_type": "markdown",
   "id": "ce34187e-bfe5-483a-b95a-a4503cbe79e7",
   "metadata": {},
   "source": [
    "Question 2-  Create a dataframe using the dictionary below and remove everything (commas (,), !, XXXX, ;, etc.) from the columns except words.\r\n",
    "Dictionary- {'SUMMARY' : ['hello, world!', 'XXXXX test', '123four, five:; six...']}\r\n",
    "Expected output-\r\n",
    "0      hello world\r\n",
    "1             test\r\n",
    "2    four five six\r\n"
   ]
  },
  {
   "cell_type": "code",
   "execution_count": 14,
   "id": "b5c01bd4-6559-4dca-9818-cd03140d159f",
   "metadata": {},
   "outputs": [
    {
     "name": "stdout",
     "output_type": "stream",
     "text": [
      "         SUMMARY\n",
      "0    hello world\n",
      "1     XXXXX test\n",
      "2  four five six\n"
     ]
    }
   ],
   "source": [
    "data = {'SUMMARY': ['hello, world!', 'XXXXX test', '123four, five:; six...']}\n",
    "df = pd.DataFrame(data)\n",
    "df['SUMMARY'] = df['SUMMARY'].str.replace('[^a-zA-Z\\s]', '', regex=True)\n",
    "print(df)"
   ]
  },
  {
   "cell_type": "markdown",
   "id": "a0082177-3726-4418-a007-3a3692d4d9d4",
   "metadata": {},
   "source": [
    "Question 3- Create a function in python to find all words that are at least 4 characters long in a string. The use of the re.compile() method is mandatory"
   ]
  },
  {
   "cell_type": "code",
   "execution_count": 20,
   "id": "e04f7de3-2d13-4908-8d7d-dffeb251a0bb",
   "metadata": {},
   "outputs": [
    {
     "name": "stdout",
     "output_type": "stream",
     "text": [
      "['This', 'with', 'words']\n"
     ]
    }
   ],
   "source": [
    "import re\n",
    "\n",
    "def find_words(string):\n",
    "  pattern = re.compile(r'\\b\\w{3,5}\\b')\n",
    "  matches = pattern.findall(string)\n",
    "  return matches\n",
    "string = \"This is a sample string with words of different lengths.\"\n",
    "result = find_words(string)\n",
    "print(result)"
   ]
  },
  {
   "cell_type": "markdown",
   "id": "5c969162-20a9-48e4-9817-548cfb500889",
   "metadata": {},
   "source": [
    "Question 4- Create a function in python to find all three, four, and five character words in a string. The use of the re.compile() method is mandatory"
   ]
  },
  {
   "cell_type": "code",
   "execution_count": 23,
   "id": "2801e2e1-c98a-4010-a20e-c879221416ef",
   "metadata": {},
   "outputs": [
    {
     "name": "stdout",
     "output_type": "stream",
     "text": [
      "['This', 'with', 'words']\n"
     ]
    }
   ],
   "source": [
    "import re\n",
    "\n",
    "def find_words(string):\n",
    "  pattern = re.compile(r'\\b\\w{3,5}\\b')\n",
    "  matches = pattern.findall(string)\n",
    "  return matches\n",
    "string = \"This is a sample string with words of different lengths.\"\n",
    "result = find_words(string)\n",
    "print(result)"
   ]
  },
  {
   "cell_type": "markdown",
   "id": "6e6567d9-1333-4d8d-81bc-718438bac7ef",
   "metadata": {},
   "source": [
    "Question 7- Write a regular expression in Python to split a string into uppercase letters.\r\n",
    "Sample text: “ImportanceOfRegularExpressionsInPython”\r\n",
    "Expected Output: [‘Importance’, ‘Of’, ‘Regular’, ‘Expression’, ‘In’, ‘Python’]\r\n"
   ]
  },
  {
   "cell_type": "code",
   "execution_count": 35,
   "id": "17ea8cbc-47ce-4963-b437-b552f5a6a928",
   "metadata": {},
   "outputs": [
    {
     "name": "stdout",
     "output_type": "stream",
     "text": [
      "['Importance', 'Of', 'Regular@', 'Expressions', 'In', 'Python']\n"
     ]
    }
   ],
   "source": [
    "text= \"ImportanceOfRegular@ExpressionsInPython\" \n",
    "upper_case = [s for s in re.split(\"([A-Z][^A-Z]*)\", text) if s] \n",
    "print(upper_case)"
   ]
  },
  {
   "cell_type": "markdown",
   "id": "3fc0b29c-2a3d-4652-be53-939b399514f1",
   "metadata": {},
   "source": [
    "Question 8- Create a function in python to insert spaces between words starting with numbers.\r\n",
    "Sample Text: “RegularExpression1IsAn2ImportantTopic3InPython\"\r\n",
    "Expected Output: RegularExpression 1IsAn 2ImportantTopic 3InPython\r\n"
   ]
  },
  {
   "cell_type": "code",
   "execution_count": 120,
   "id": "d4a6473c-c5ea-4f79-8274-a75bc98ac151",
   "metadata": {},
   "outputs": [
    {
     "name": "stdout",
     "output_type": "stream",
     "text": [
      "RegularExpression 1IsAn 2ImportantTopic 3InPython\n"
     ]
    }
   ],
   "source": [
    "def numbers_spaces(str1):  \n",
    "    return re.sub(r\"(\\w)([0-9])\", r\"\\1 \\2\", str1) \n",
    "print(numbers_spaces(\"RegularExpression1IsAn2ImportantTopic3InPython\"))"
   ]
  },
  {
   "cell_type": "markdown",
   "id": "759743b9-471b-4c2f-a22a-ef6a4d670614",
   "metadata": {},
   "source": [
    "Question 9- Create a function in python to insert spaces between words starting with capital letters or with numbers.\r\n",
    "Sample Text: “RegularExpression1IsAn2ImportantTopic3InPython\"\r\n",
    "Expected Output:  RegularExpression 1 IsAn 2 ImportantTopic 3 InPython\r\n"
   ]
  },
  {
   "cell_type": "code",
   "execution_count": 37,
   "id": "93c3167e-591d-4f4d-b623-613caf6d46d8",
   "metadata": {},
   "outputs": [
    {
     "name": "stdout",
     "output_type": "stream",
     "text": [
      "Regular Expression 1 Is An 2 Important Topic 3 In Python\n"
     ]
    }
   ],
   "source": [
    "def Insert_space(string):    \n",
    "    words = re.findall(r\"[0-9]|[A-Z][a-z]*\", string)    \n",
    "    print(' '.join(words))  \n",
    "Insert_space(\"RegularExpression1IsAn2ImportantTopic3InPython\")"
   ]
  },
  {
   "cell_type": "markdown",
   "id": "1b35a1f6-bfa6-4606-96df-2ae2f1826b16",
   "metadata": {},
   "source": [
    "Question 11- Write a Python program to match a string that contains only upper and lowercase letters, numbers, and underscores."
   ]
  },
  {
   "cell_type": "code",
   "execution_count": 45,
   "id": "b7314a71-68fb-4b45-bdc2-43186f1ded33",
   "metadata": {},
   "outputs": [
    {
     "name": "stdout",
     "output_type": "stream",
     "text": [
      "['xYz_123']\n",
      "Found a match!\n",
      "\n",
      "['Python_', 'Exercises_1']\n",
      "Found a match!\n",
      "\n"
     ]
    }
   ],
   "source": [
    "def text_match(text):         \n",
    "    patterns = '[a-zA-Z]+[0-9_]+'        \n",
    "    x=re.findall(patterns,  text)        \n",
    "    if x:                \n",
    "        print(x)                \n",
    "        return 'Found a match!\\n'        \n",
    "    else:                \n",
    "        return('Not matched!') \n",
    "print(text_match(\"The quick brown fox jumps over the lazy dog named xYz_123.\")) \n",
    "print(text_match(\"Python_Exercises_1\"))"
   ]
  },
  {
   "cell_type": "markdown",
   "id": "e731cb68-910c-4cfb-b0e0-85e76cd41449",
   "metadata": {},
   "source": [
    "Question 12- Write a Python program where a string will start with a specific number. "
   ]
  },
  {
   "cell_type": "code",
   "execution_count": 44,
   "id": "530a9d5e-4262-4f99-ae2f-42535f490006",
   "metadata": {},
   "outputs": [
    {
     "name": "stdout",
     "output_type": "stream",
     "text": [
      "True\n",
      "False\n"
     ]
    }
   ],
   "source": [
    " \n",
    "def match_num(string):    \n",
    "    text = re.compile(r\"^5\")    \n",
    "    if text.match(string):        \n",
    "        return True    \n",
    "    else:         \n",
    "        return False\n",
    "print(match_num('5-2345861')) \n",
    "print(match_num('6-2345861'))"
   ]
  },
  {
   "cell_type": "markdown",
   "id": "e6f9da0e-db5f-44fb-96e2-88536f076837",
   "metadata": {},
   "source": [
    "Question 13- Write a Python program to remove leading zeros from an IP address"
   ]
  },
  {
   "cell_type": "code",
   "execution_count": 46,
   "id": "beba2582-82e5-42de-80b1-f51dacaaa4a0",
   "metadata": {},
   "outputs": [
    {
     "name": "stdout",
     "output_type": "stream",
     "text": [
      "216.8.94.196\n"
     ]
    }
   ],
   "source": [
    "ip = \"216.08.094.196\" \n",
    "string = re.sub('\\.[0]*', '.', ip) \n",
    "print(string)"
   ]
  },
  {
   "cell_type": "markdown",
   "id": "bace5687-b70b-40bb-a782-e810863f36c7",
   "metadata": {},
   "source": [
    "Question 14- Write a regular expression in python to match a date string in the form of Month name followed by day number and year stored in a text file."
   ]
  },
  {
   "cell_type": "markdown",
   "id": "9a76d206-f9ac-4210-9e0d-b9de0b4eb1e4",
   "metadata": {},
   "source": [
    "Sample text :  ' On August 15th 1947 that India was declared independent from British colonialism, and the reins of control were handed over to the leaders of the Country’."
   ]
  },
  {
   "cell_type": "code",
   "execution_count": 51,
   "id": "e67d5ade-86ce-4653-a11d-1982310a8736",
   "metadata": {},
   "outputs": [
    {
     "name": "stdout",
     "output_type": "stream",
     "text": [
      "['August']\n"
     ]
    }
   ],
   "source": [
    "text = \"On August 15th 1947 that India was declared independent from British colonialism, and the reins of control were handed over to the leaders of the Country.\"\n",
    "\n",
    "pattern = r\"\\b([A-Z][a-z]+) \\d{1,2}(?:st|nd|rd|th)? \\d{4}\\b\"\n",
    "\n",
    "matches = re.findall(pattern, text)\n",
    "print(matches)"
   ]
  },
  {
   "cell_type": "markdown",
   "id": "3d619e1b-f492-406b-b071-adcc02a3e98b",
   "metadata": {},
   "source": [
    "Question 15- Write a Python program to search some literals strings in a string. \r\n",
    "Sample text : 'The quick brown fox jumps over the lazy dog.'\r\n",
    "Searched words : 'fox', 'dog', 'horse'\r\n"
   ]
  },
  {
   "cell_type": "code",
   "execution_count": 56,
   "id": "606f6e86-70c9-40f1-8e10-ebc28bc0bb08",
   "metadata": {},
   "outputs": [
    {
     "name": "stdout",
     "output_type": "stream",
     "text": [
      "Searching for \"fox\" in \"The quick brown fox jumps over the lazy dog.\" ->\n",
      "Matched!\n",
      "\n",
      "Searching for \"dog\" in \"The quick brown fox jumps over the lazy dog.\" ->\n",
      "Matched!\n",
      "\n",
      "Searching for \"horse\" in \"The quick brown fox jumps over the lazy dog.\" ->\n",
      "Not Matched!\n"
     ]
    }
   ],
   "source": [
    "patterns = [ 'fox', 'dog', 'horse' ] \n",
    "text = 'The quick brown fox jumps over the lazy dog.' \n",
    "for pattern in patterns:     \n",
    "    print('Searching for \"%s\" in \"%s\" ->' % (pattern, text))     \n",
    "    if re.search(pattern,  text):         \n",
    "        print('Matched!\\n')     \n",
    "    else:         \n",
    "        print('Not Matched!')"
   ]
  },
  {
   "cell_type": "markdown",
   "id": "21760e40-7fa1-4931-905d-02fa2f01a076",
   "metadata": {},
   "source": [
    "Question 16- Write a Python program to search a literals string in a string and also find the location within the original string where the pattern occurs\r\n",
    "Sample text : 'The quick brown fox jumps over the lazy dog.'\r\n",
    "Searched words : 'fox'\r\n"
   ]
  },
  {
   "cell_type": "code",
   "execution_count": 57,
   "id": "d4a1b3e8-c984-4635-b7d9-7d5854c947da",
   "metadata": {},
   "outputs": [
    {
     "name": "stdout",
     "output_type": "stream",
     "text": [
      "Found \"fox\" in \"The quick brown fox jumps over the lazy dog.\" from 16 to 19 \n"
     ]
    }
   ],
   "source": [
    "pattern = 'fox' \n",
    "text = 'The quick brown fox jumps over the lazy dog.' \n",
    "match = re.search(pattern, text) \n",
    "s = match.start() \n",
    "e = match.end() \n",
    "print('Found \"%s\" in \"%s\" from %d to %d ' % (match.re.pattern, match.string, s, e)) "
   ]
  },
  {
   "cell_type": "markdown",
   "id": "6fe97c71-f663-49ec-a5aa-5ec14cbc2b94",
   "metadata": {},
   "source": [
    "Question 17- Write a Python program to find the substrings within a string.\r\n",
    "Sample text : 'Python exercises, PHP exercises, C# exercises'\r\n",
    "Pattern : 'exercises'.\r\n"
   ]
  },
  {
   "cell_type": "code",
   "execution_count": 60,
   "id": "427f5c99-b6ed-47f2-9963-3ab278bfe96f",
   "metadata": {},
   "outputs": [
    {
     "name": "stdout",
     "output_type": "stream",
     "text": [
      "Found \"exercises\"\n",
      "Found \"exercises\"\n",
      "Found \"exercises\"\n"
     ]
    }
   ],
   "source": [
    "text = 'Python exercises, PHP exercises, C# exercises' \n",
    "pattern = 'exercises' \n",
    "for match in re.findall(pattern, text):     \n",
    "    print('Found \"%s\"' % match)"
   ]
  },
  {
   "cell_type": "markdown",
   "id": "88f58ed9-a7ef-4b3b-a5c4-c5920e6ef4b5",
   "metadata": {},
   "source": [
    "Question 18- Write a Python program to find the occurrence and position of the substrings within a string."
   ]
  },
  {
   "cell_type": "code",
   "execution_count": 61,
   "id": "cfb7bb94-d516-4c3f-90e9-18cb1a3b660d",
   "metadata": {},
   "outputs": [
    {
     "name": "stdout",
     "output_type": "stream",
     "text": [
      "Found \"exercises\" at 7:16\n",
      "Found \"exercises\" at 22:31\n",
      "Found \"exercises\" at 36:45\n"
     ]
    }
   ],
   "source": [
    "text = 'Python exercises, PHP exercises, C# exercises' \n",
    "pattern = 'exercises' \n",
    "for match in re.finditer(pattern, text):     \n",
    "    s = match.start()    \n",
    "    e = match.end()     \n",
    "    print('Found \"%s\" at %d:%d' % (text[s:e], s, e)) "
   ]
  },
  {
   "cell_type": "markdown",
   "id": "6c5560b9-0a20-4d39-bedf-0d395faad546",
   "metadata": {},
   "source": [
    "Question 19- Write a Python program to convert a date of yyyy-mm-dd format to dd-mm-yyyy format."
   ]
  },
  {
   "cell_type": "code",
   "execution_count": 69,
   "id": "99ffcdce-c570-4725-ab0d-c1bc12d2c50d",
   "metadata": {},
   "outputs": [
    {
     "name": "stdout",
     "output_type": "stream",
     "text": [
      "Original date in YYY-MM-DD Format:  2024-04-28\n",
      "New date in DD-MM-YYYY Format:  28-04-2024\n"
     ]
    }
   ],
   "source": [
    "def change_date_format(dt):         \n",
    "    return re.sub(r'(\\d{4})-(\\d{1,2})-(\\d{1,2})', '\\\\3-\\\\2-\\\\1', dt) \n",
    "dt1 = \"2024-04-28\" \n",
    "print(\"Original date in YYY-MM-DD Format: \",dt1) \n",
    "print(\"New date in DD-MM-YYYY Format: \",change_date_format(dt1)) "
   ]
  },
  {
   "cell_type": "markdown",
   "id": "d9fd4116-be73-4f4c-a84a-2431b90895f7",
   "metadata": {},
   "source": [
    "Question 20- Create a function in python to find all decimal numbers with a precision of 1 or 2 in a string. The use of the re.compile() method is mandatory.\r\n",
    "Sample Text: \"01.12 0132.123 2.31875 145.8 3.01 27.25 0.25\"\r\n",
    "Expected Output: ['01.12', '145.8', '3.01', '27.25', '0.25']\r\n"
   ]
  },
  {
   "cell_type": "code",
   "execution_count": 70,
   "id": "760fb242-01eb-403c-87ca-528f007aa791",
   "metadata": {},
   "outputs": [
    {
     "name": "stdout",
     "output_type": "stream",
     "text": [
      "['01.12', '145.8', '3.01', '27.25', '0.25']\n"
     ]
    }
   ],
   "source": [
    "def decimal_with_precision(string):    \n",
    "    deci_num = re.compile(r\"\\b([0-9]+\\.[0-9]{1,2})\\b\")  \n",
    "    result = deci_num.findall(text)   \n",
    "    print(result)  \n",
    "text= \"01.12 0132.123 2.31875 145.8 3.01 27.25 0.25\" \n",
    "decimal_with_precision(text)"
   ]
  },
  {
   "cell_type": "markdown",
   "id": "970b10f5-a4ba-4344-b0e0-540f4dbfdce1",
   "metadata": {},
   "source": [
    "Question 21- Write a Python program to separate and print the numbers and their position of a given string"
   ]
  },
  {
   "cell_type": "code",
   "execution_count": 85,
   "id": "fa6e9eff-d1d5-4eb6-b09a-5dad2b400e4c",
   "metadata": {},
   "outputs": [
    {
     "name": "stdout",
     "output_type": "stream",
     "text": [
      "50\n",
      "Index position: 62\n"
     ]
    }
   ],
   "source": [
    "text = \"The following example creates an ArrayList with a capacity of 50 elements. Four elements are then added to the ArrayList and the ArrayList is trimmed accordingly.\"\n",
    "\n",
    "for m in re.finditer(\"\\d+\", text):\n",
    "    print(m.group(0))\n",
    "    print(\"Index position:\", m.start())"
   ]
  },
  {
   "cell_type": "markdown",
   "id": "3b8c6f69-a2fd-4a9f-b396-0f4a10a66688",
   "metadata": {},
   "source": [
    "Question 22- Write a regular expression in python program to extract maximum/largest numeric value from a string.\r\n",
    "Sample Text:  'My marks in each semester are: 947, 896, 926, 524, 734, 950, 642'\r\n",
    "Expected Output: 950\r\n"
   ]
  },
  {
   "cell_type": "code",
   "execution_count": 87,
   "id": "ce53d28f-f0b6-4e11-b74f-578527bc9af1",
   "metadata": {},
   "outputs": [
    {
     "name": "stdout",
     "output_type": "stream",
     "text": [
      "950\n"
     ]
    }
   ],
   "source": [
    "import re\n",
    "input_string = 'My marks in each semester are: 947, 896, 926, 524, 734, 950, 642'\n",
    "\n",
    "numeric_values = re.findall(r'\\d+', input_string)\n",
    "numeric_values = [int(value) for value in numeric_values]\n",
    "\n",
    "max_value = max(numeric_values)\n",
    "\n",
    "print(max_value)"
   ]
  },
  {
   "cell_type": "markdown",
   "id": "1309b11b-1b37-47d7-bfb6-69b6c27d0a39",
   "metadata": {},
   "source": [
    "Question 23- Create a function in python to insert spaces between words starting with capital letters.\r\n",
    "Sample Text: “RegularExpressionIsAnImportantTopicInPython\"\r\n",
    "Expected Output: Regular Expression Is An Important Topic In Python\r\n"
   ]
  },
  {
   "cell_type": "code",
   "execution_count": 93,
   "id": "8ae5ab4f-0ef6-4139-90d9-a481c3d82f63",
   "metadata": {},
   "outputs": [
    {
     "name": "stdout",
     "output_type": "stream",
     "text": [
      "Regular Expression Is An Important Topic In Python\n"
     ]
    }
   ],
   "source": [
    "def putspaces1(str1):   \n",
    "    return re.sub(r\"(\\w)([A-Z])\", r\"\\1 \\2\", str1)  \n",
    "print(putspaces1(\"RegularExpressionIsAnImportantTopicInPython\")) "
   ]
  },
  {
   "cell_type": "markdown",
   "id": "b249fe8a-9c81-48cd-922d-1f3f7d5b78f1",
   "metadata": {},
   "source": [
    "Question 24- Python regex to find sequences of one upper case letter followed by lower case letters"
   ]
  },
  {
   "cell_type": "code",
   "execution_count": 94,
   "id": "1e952bd3-6db7-40f6-a17e-0de4ef153773",
   "metadata": {},
   "outputs": [
    {
     "name": "stdout",
     "output_type": "stream",
     "text": [
      "['This', 'Sample', 'Text', 'Multiple', 'Matches']\n"
     ]
    }
   ],
   "source": [
    "import re\n",
    "\n",
    "pattern = r'[A-Z][a-z]+'\n",
    "text = \"This is a Sample Text with Multiple Matches\"\n",
    "\n",
    "matches = re.findall(pattern, text)\n",
    "print(matches)"
   ]
  },
  {
   "cell_type": "markdown",
   "id": "86266271-6345-46fc-b807-597929efd1bc",
   "metadata": {},
   "source": [
    "Question 25- Write a Python program to remove continuous duplicate words from Sentence using Regular Expression.\r\n",
    "Sample Text: \"Hello hello world world\"\r\n",
    "Expected Output: Hello hello world\r\n"
   ]
  },
  {
   "cell_type": "code",
   "execution_count": 95,
   "id": "d83c9b4c-eb7f-4753-849b-d995f0febc23",
   "metadata": {},
   "outputs": [
    {
     "name": "stdout",
     "output_type": "stream",
     "text": [
      "Hello hello world\n"
     ]
    }
   ],
   "source": [
    "import re\n",
    "\n",
    "def remove_duplicates(sentence):\n",
    "  pattern = r'\\b(\\w+)(\\s+\\1\\b)+'\n",
    "  result = re.sub(pattern, r'\\1', sentence)\n",
    "  return result\n",
    "\n",
    "sentence = \"Hello hello world world\"\n",
    "output = remove_duplicates(sentence)\n",
    "print(output)"
   ]
  },
  {
   "cell_type": "markdown",
   "id": "9868c1e7-4712-4dfc-b277-f85d271bd046",
   "metadata": {},
   "source": [
    "Question 26-  Write a python program using RegEx to accept string ending with alphanumeric character."
   ]
  },
  {
   "cell_type": "code",
   "execution_count": 104,
   "id": "1364539c-202f-48c4-a2c1-2d2730e7fc8e",
   "metadata": {},
   "outputs": [
    {
     "name": "stdout",
     "output_type": "stream",
     "text": [
      "The string is not ending with an alphanumeric character. \n",
      "\n",
      "The string is ending with an alphanumeric character. \n",
      "\n",
      "The string is not ending with an alphanumeric character. \n",
      "\n",
      "The string is ending with an alphanumeric character. \n",
      "\n"
     ]
    }
   ],
   "source": [
    "regex = '[a-zA-z0-9]$'  \n",
    "def check_alpha_numeric(string):     \n",
    "    if(re.search(regex, string)):         \n",
    "        print(\"The string is ending with an alphanumeric character. \\n\")     \n",
    "    else:         \n",
    "        print(\"The string is not ending with an alphanumeric character. \\n\")   \n",
    "check_alpha_numeric(\"Gaurav@\") \n",
    "check_alpha_numeric(\"Gaurav123\") \n",
    "check_alpha_numeric(\"Gaurav.\") \n",
    "check_alpha_numeric(\"Gaurav2211\")"
   ]
  },
  {
   "cell_type": "markdown",
   "id": "43991318-0d23-472d-a8fd-b9a0af36a31d",
   "metadata": {},
   "source": [
    "Question 27-Write a python program using RegEx to extract the hashtags.\r\n",
    "Sample Text:  \"\"\"RT @kapil_kausik: #Doltiwal I mean #xyzabc is \"hurt\" by #Demonetization as the same has rendered USELESS <ed><U+00A0><U+00BD><ed><U+00B1><U+0089> \"acquired funds\" No wo\"\"\"\r\n",
    "Expected Output: ['#Doltiwal', '#xyzabc', '#Demonetization']\r\n"
   ]
  },
  {
   "cell_type": "code",
   "execution_count": 121,
   "id": "65ad11d1-5eed-446c-845e-1c2c7acaba31",
   "metadata": {},
   "outputs": [
    {
     "name": "stdout",
     "output_type": "stream",
     "text": [
      "['#Doltiwal', '#xyzabc', '#Demonetization']\n"
     ]
    }
   ],
   "source": [
    "import re\n",
    "\n",
    "def extract_hashtags(text):\n",
    "  hashtags = re.findall(r'#\\w+', text)\n",
    "  return hashtags\n",
    "\n",
    "\n",
    "text = 'RT @kapil_kausik: #Doltiwal I mean #xyzabc is \"hurt\" by #Demonetization as the same has rendered USELESS <ed><U+00A0><U+00BD><ed><U+00B1><U+0089> \"acquired funds\" No wo'\n",
    "\n",
    "hashtags = extract_hashtags(text)\n",
    "\n",
    "\n",
    "print(hashtags)"
   ]
  },
  {
   "cell_type": "markdown",
   "id": "8adc3477-13f5-4163-8721-09fcf87ca54c",
   "metadata": {},
   "source": [
    "Question 28- Write a python program using RegEx to remove <U+..> like symbols\r\n",
    "Check the below sample text, there are strange symbols something of the sort <U+..> all over the place. You need to come up with a general Regex expression that will cover all such symbols.\r\n",
    "Sample Text: \"@Jags123456 Bharat band on 28??<ed><U+00A0><U+00BD><ed><U+00B8><U+0082>Those who  are protesting #demonetization  are all different party leaders\"\r\n",
    "Expected Output: @Jags123456 Bharat band on 28??<ed><ed>Those who  are protesting #demonetization  are all different party leaders\r\n"
   ]
  },
  {
   "cell_type": "code",
   "execution_count": 109,
   "id": "6ed14689-559d-4cec-8507-8ce347dd073e",
   "metadata": {},
   "outputs": [
    {
     "name": "stdout",
     "output_type": "stream",
     "text": [
      "@Jags123456 Bharat band on 28??<ed><ed>Those who are protesting #demonetization are all different party leaders\n"
     ]
    }
   ],
   "source": [
    "import re\n",
    "\n",
    "input_text = \"@Jags123456 Bharat band on 28??<ed><U+00A0><U+00BD><ed><U+00B8><U+0082>Those who are protesting #demonetization are all different party leaders\"\n",
    "\n",
    "pattern = r\"<U\\+\\w{4}>\"\n",
    "output_text = re.sub(pattern, \"\", input_text)\n",
    "\n",
    "print(output_text)"
   ]
  },
  {
   "cell_type": "markdown",
   "id": "49a6b874-a448-4e21-a3e5-cde6b510fdde",
   "metadata": {},
   "source": [
    "Question 29- Write a python program to extract dates from the text stored in the text file.\r\n",
    "Sample Text: Ron was born on 12-09-1992 and he was admitted to school 15-12-1999.\r\n"
   ]
  },
  {
   "cell_type": "code",
   "execution_count": 114,
   "id": "d2177c0e-547d-41d8-81c8-bd239b740487",
   "metadata": {},
   "outputs": [
    {
     "ename": "IndentationError",
     "evalue": "expected an indented block after 'with' statement on line 3 (1520037569.py, line 4)",
     "output_type": "error",
     "traceback": [
      "\u001b[1;36m  Cell \u001b[1;32mIn[114], line 4\u001b[1;36m\u001b[0m\n\u001b[1;33m    text = file.read()\u001b[0m\n\u001b[1;37m    ^\u001b[0m\n\u001b[1;31mIndentationError\u001b[0m\u001b[1;31m:\u001b[0m expected an indented block after 'with' statement on line 3\n"
     ]
    }
   ],
   "source": [
    "import re\n",
    "\n",
    "with open('filename.txt', 'r') as file:\n",
    "text = file.read()\n",
    "pattern = r'\\d{2}-\\d{2}-\\d{4}'\n",
    "dates = re.findall(pattern, text)\n",
    "for date in dates:\n",
    "  print(date)"
   ]
  },
  {
   "cell_type": "markdown",
   "id": "46ddb566-ad06-445c-83ad-8dbfcfbb3548",
   "metadata": {},
   "source": [
    "Question 30- Create a function in python to remove all words from a string of length between 2 and 4.\r\n",
    "The use of the re.compile() method is mandatory.\r\n",
    "Sample Text: \"The following example creates an ArrayList with a capacity of 50 elements. 4 elements are then added to the ArrayList and the ArrayList is trimmed accordingly.\"\r\n",
    "Expected Output:  following example creates ArrayList a capacity elements. 4 elements added ArrayList ArrayList trimmed accordingly.\r\n"
   ]
  },
  {
   "cell_type": "code",
   "execution_count": 129,
   "id": "8f928d52-334b-4c8f-8295-5c31091f1e50",
   "metadata": {},
   "outputs": [
    {
     "name": "stdout",
     "output_type": "stream",
     "text": [
      " following example creates  ArrayList  a capacity   elements. 4 elements   added   ArrayList   ArrayList  trimmed accordingly.\n"
     ]
    }
   ],
   "source": [
    "import re\n",
    "\n",
    "def remove_words_of_length_2_to_4(text):\n",
    "    pattern = re.compile(r'\\b\\w{2,4}\\b')\n",
    "    return pattern.sub('', text)\n",
    "\n",
    "sample_text = \"The following example creates an ArrayList with a capacity of 50 elements. 4 elements are then added to the ArrayList and the ArrayList is trimmed accordingly.\"\n",
    "output = remove_words_of_length_2_to_4(sample_text)\n",
    "print(output)"
   ]
  },
  {
   "cell_type": "markdown",
   "id": "b9519547-3e01-4575-a2e9-69e9e033e50f",
   "metadata": {},
   "source": [
    "Question 5- Create a function in Python to remove the parenthesis in a list of strings. The use of the re.compile() method is mandatory.\r\n",
    "Sample Text: [\"example (.com)\", \"hr@fliprobo (.com)\", \"github (.com)\", \"Hello (Data Science World)\", \"Data (Scientist)\"]\r\n",
    "Expected Output:\r\n",
    "example.com\r\n",
    "hr@fliprobo.com\r\n",
    "github.com\r\n",
    "Hello Data Science World\r\n"
   ]
  },
  {
   "cell_type": "code",
   "execution_count": 137,
   "id": "daf1b76b-e30b-481e-a7c3-b369c7c56ad1",
   "metadata": {},
   "outputs": [
    {
     "name": "stdout",
     "output_type": "stream",
     "text": [
      "example\n",
      "hr@fliprobo\n",
      "github\n",
      "Hello\n",
      "Data\n"
     ]
    }
   ],
   "source": [
    "import re\n",
    "\n",
    "def remove_parenthesis(strings):\n",
    "    pattern = re.compile(r'\\s*\\([^)]*\\)')\n",
    "    return [pattern.sub('', s) for s in strings]\n",
    "\n",
    "sample_text = [\"example (.com)\", \"hr@fliprobo (.com)\", \"github (.com)\", \"Hello (Data Science World)\", \"Data (Scientist)\"]\n",
    "output = remove_parenthesis(sample_text)\n",
    "for item in output:\n",
    "    print(item)"
   ]
  },
  {
   "cell_type": "markdown",
   "id": "67161ad2-b519-45bd-9a46-fed2dccdc03e",
   "metadata": {},
   "source": [
    "Question 6- Write a python program to remove the parenthesis area from the text stored in the text file using Regular Expression.\r\n",
    "Sample Text: [\"example (.com)\", \"hr@fliprobo (.com)\", \"github (.com)\", \"Hello (Data Science World)\", \"Data (Scientist)\"]\r\n",
    "Expected Output: [\"example\", \"hr@fliprobo\", \"github\", \"Hello\", \"Data\"]\r\n"
   ]
  },
  {
   "cell_type": "code",
   "execution_count": 140,
   "id": "21063ffa-adc4-4e0a-b633-14fbc394932a",
   "metadata": {},
   "outputs": [
    {
     "name": "stdout",
     "output_type": "stream",
     "text": [
      "['example ', 'hr@fliprobo ', 'github ', 'Hello ', 'Data ']\n"
     ]
    }
   ],
   "source": [
    "import re\n",
    "\n",
    "def remove_parenthesis(strings):\n",
    "    pattern = re.compile(r'\\((.*?)\\)')\n",
    "    return [pattern.sub('', s) for s in strings]\n",
    "\n",
    "sample_text = [\"example (.com)\", \"hr@fliprobo (.com)\", \"github (.com)\", \"Hello (Data Science World)\", \"Data (Scientist)\"]\n",
    "output = remove_parenthesis(sample_text)\n",
    "print(output)"
   ]
  },
  {
   "cell_type": "code",
   "execution_count": null,
   "id": "0923d2d5-a698-4ec0-b22e-c5754828a9d8",
   "metadata": {},
   "outputs": [],
   "source": []
  }
 ],
 "metadata": {
  "kernelspec": {
   "display_name": "Python 3 (ipykernel)",
   "language": "python",
   "name": "python3"
  },
  "language_info": {
   "codemirror_mode": {
    "name": "ipython",
    "version": 3
   },
   "file_extension": ".py",
   "mimetype": "text/x-python",
   "name": "python",
   "nbconvert_exporter": "python",
   "pygments_lexer": "ipython3",
   "version": "3.11.7"
  }
 },
 "nbformat": 4,
 "nbformat_minor": 5
}
